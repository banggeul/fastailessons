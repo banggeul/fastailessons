{
  "nbformat": 4,
  "nbformat_minor": 0,
  "metadata": {
    "colab": {
      "name": "Fast Ai Production Ch2 Practice.ipynb",
      "provenance": [],
      "authorship_tag": "ABX9TyMvxwGp01eem9jniklALlZL",
      "include_colab_link": true
    },
    "kernelspec": {
      "name": "python3",
      "display_name": "Python 3"
    },
    "language_info": {
      "name": "python"
    },
    "accelerator": "GPU",
    "widgets": {
      "application/vnd.jupyter.widget-state+json": {
        "33dad0ab00ff47c1a198c931df2afb14": {
          "model_module": "@jupyter-widgets/controls",
          "model_name": "VBoxModel",
          "model_module_version": "1.5.0",
          "state": {
            "_view_name": "VBoxView",
            "_dom_classes": [],
            "_model_name": "VBoxModel",
            "_view_module": "@jupyter-widgets/controls",
            "_model_module_version": "1.5.0",
            "_view_count": null,
            "_view_module_version": "1.5.0",
            "box_style": "",
            "layout": "IPY_MODEL_eaa8a7a4294445bbabf365305448a0df",
            "_model_module": "@jupyter-widgets/controls",
            "children": [
              "IPY_MODEL_2a924e348b834f43b623adda2603b0b2",
              "IPY_MODEL_fde8b121e7c04bc3aaeb908fc71a6524",
              "IPY_MODEL_58746a5310034b2b8e8aaa5496e7ecea",
              "IPY_MODEL_0998d99e68db4c32aad360ac88db4be3",
              "IPY_MODEL_801b8fa894624dcf8aafa11902af6f86"
            ]
          }
        },
        "eaa8a7a4294445bbabf365305448a0df": {
          "model_module": "@jupyter-widgets/base",
          "model_name": "LayoutModel",
          "model_module_version": "1.2.0",
          "state": {
            "_view_name": "LayoutView",
            "grid_template_rows": null,
            "right": null,
            "justify_content": null,
            "_view_module": "@jupyter-widgets/base",
            "overflow": null,
            "_model_module_version": "1.2.0",
            "_view_count": null,
            "flex_flow": null,
            "width": null,
            "min_width": null,
            "border": null,
            "align_items": null,
            "bottom": null,
            "_model_module": "@jupyter-widgets/base",
            "top": null,
            "grid_column": null,
            "overflow_y": null,
            "overflow_x": null,
            "grid_auto_flow": null,
            "grid_area": null,
            "grid_template_columns": null,
            "flex": null,
            "_model_name": "LayoutModel",
            "justify_items": null,
            "grid_row": null,
            "max_height": null,
            "align_content": null,
            "visibility": null,
            "align_self": null,
            "height": null,
            "min_height": null,
            "padding": null,
            "grid_auto_rows": null,
            "grid_gap": null,
            "max_width": null,
            "order": null,
            "_view_module_version": "1.2.0",
            "grid_template_areas": null,
            "object_position": null,
            "object_fit": null,
            "grid_auto_columns": null,
            "margin": null,
            "display": null,
            "left": null
          }
        },
        "2a924e348b834f43b623adda2603b0b2": {
          "model_module": "@jupyter-widgets/controls",
          "model_name": "LabelModel",
          "model_module_version": "1.5.0",
          "state": {
            "_view_name": "LabelView",
            "style": "IPY_MODEL_c2b9f38420b24e6584e48d3242819457",
            "_dom_classes": [],
            "description": "",
            "_model_name": "LabelModel",
            "placeholder": "​",
            "_view_module": "@jupyter-widgets/controls",
            "_model_module_version": "1.5.0",
            "value": "Select Your Bear!",
            "_view_count": null,
            "_view_module_version": "1.5.0",
            "description_tooltip": null,
            "_model_module": "@jupyter-widgets/controls",
            "layout": "IPY_MODEL_24b17da6f3744a96b7d8a5797d80e879"
          }
        },
        "fde8b121e7c04bc3aaeb908fc71a6524": {
          "model_module": "@jupyter-widgets/controls",
          "model_name": "FileUploadModel",
          "model_module_version": "1.5.0",
          "state": {
            "_view_name": "FileUploadView",
            "_counter": 1,
            "style": "IPY_MODEL_5faa16a002054f1a96a9de476bc6d838",
            "_dom_classes": [],
            "description": "Upload",
            "multiple": false,
            "_model_name": "FileUploadModel",
            "data": [
              null
            ],
            "button_style": "",
            "_view_module": "@jupyter-widgets/controls",
            "_model_module_version": "1.5.0",
            "accept": "",
            "_view_count": null,
            "disabled": false,
            "_view_module_version": "1.5.0",
            "error": "",
            "description_tooltip": null,
            "metadata": [
              {
                "name": "tedd.png",
                "type": "image/png",
                "size": 1355374,
                "lastModified": 1628954523000
              }
            ],
            "_model_module": "@jupyter-widgets/controls",
            "layout": "IPY_MODEL_21b29d9b66db45a6b11c55736f6f9c9b",
            "icon": "upload"
          }
        },
        "58746a5310034b2b8e8aaa5496e7ecea": {
          "model_module": "@jupyter-widgets/controls",
          "model_name": "ButtonModel",
          "model_module_version": "1.5.0",
          "state": {
            "_view_name": "ButtonView",
            "style": "IPY_MODEL_9907b46ef54a4f0b8c5f0a2b801e73d6",
            "_dom_classes": [],
            "description": "Classify",
            "_model_name": "ButtonModel",
            "button_style": "",
            "_view_module": "@jupyter-widgets/controls",
            "_model_module_version": "1.5.0",
            "tooltip": "",
            "_view_count": null,
            "disabled": false,
            "_view_module_version": "1.5.0",
            "layout": "IPY_MODEL_35cc8f88298d44498b26ddf18317e5e7",
            "_model_module": "@jupyter-widgets/controls",
            "icon": ""
          }
        },
        "0998d99e68db4c32aad360ac88db4be3": {
          "model_module": "@jupyter-widgets/output",
          "model_name": "OutputModel",
          "model_module_version": "1.0.0",
          "state": {
            "_view_name": "OutputView",
            "msg_id": "",
            "_dom_classes": [],
            "_model_name": "OutputModel",
            "outputs": [
              {
                "output_type": "display_data",
                "metadata": {
                  "tags": []
                },
                "image/png": "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\n",
                "text/plain": "<PIL.Image.Image image mode=RGB size=98x128 at 0x7F4A4E29FBD0>"
              }
            ],
            "_view_module": "@jupyter-widgets/output",
            "_model_module_version": "1.0.0",
            "_view_count": null,
            "_view_module_version": "1.0.0",
            "layout": "IPY_MODEL_0807fa8894834266a5f132204ad1ee8f",
            "_model_module": "@jupyter-widgets/output"
          }
        },
        "801b8fa894624dcf8aafa11902af6f86": {
          "model_module": "@jupyter-widgets/controls",
          "model_name": "LabelModel",
          "model_module_version": "1.5.0",
          "state": {
            "_view_name": "LabelView",
            "style": "IPY_MODEL_5b06adb55ca74fc184fca9a6060a4e67",
            "_dom_classes": [],
            "description": "",
            "_model_name": "LabelModel",
            "placeholder": "​",
            "_view_module": "@jupyter-widgets/controls",
            "_model_module_version": "1.5.0",
            "value": "Prediction: teddy; Probability: 1.0000",
            "_view_count": null,
            "_view_module_version": "1.5.0",
            "description_tooltip": null,
            "_model_module": "@jupyter-widgets/controls",
            "layout": "IPY_MODEL_21d309fe4c5c4e9c9ba496415454cc48"
          }
        },
        "c2b9f38420b24e6584e48d3242819457": {
          "model_module": "@jupyter-widgets/controls",
          "model_name": "DescriptionStyleModel",
          "model_module_version": "1.5.0",
          "state": {
            "_view_name": "StyleView",
            "_model_name": "DescriptionStyleModel",
            "description_width": "",
            "_view_module": "@jupyter-widgets/base",
            "_model_module_version": "1.5.0",
            "_view_count": null,
            "_view_module_version": "1.2.0",
            "_model_module": "@jupyter-widgets/controls"
          }
        },
        "24b17da6f3744a96b7d8a5797d80e879": {
          "model_module": "@jupyter-widgets/base",
          "model_name": "LayoutModel",
          "model_module_version": "1.2.0",
          "state": {
            "_view_name": "LayoutView",
            "grid_template_rows": null,
            "right": null,
            "justify_content": null,
            "_view_module": "@jupyter-widgets/base",
            "overflow": null,
            "_model_module_version": "1.2.0",
            "_view_count": null,
            "flex_flow": null,
            "width": null,
            "min_width": null,
            "border": null,
            "align_items": null,
            "bottom": null,
            "_model_module": "@jupyter-widgets/base",
            "top": null,
            "grid_column": null,
            "overflow_y": null,
            "overflow_x": null,
            "grid_auto_flow": null,
            "grid_area": null,
            "grid_template_columns": null,
            "flex": null,
            "_model_name": "LayoutModel",
            "justify_items": null,
            "grid_row": null,
            "max_height": null,
            "align_content": null,
            "visibility": null,
            "align_self": null,
            "height": null,
            "min_height": null,
            "padding": null,
            "grid_auto_rows": null,
            "grid_gap": null,
            "max_width": null,
            "order": null,
            "_view_module_version": "1.2.0",
            "grid_template_areas": null,
            "object_position": null,
            "object_fit": null,
            "grid_auto_columns": null,
            "margin": null,
            "display": null,
            "left": null
          }
        },
        "5faa16a002054f1a96a9de476bc6d838": {
          "model_module": "@jupyter-widgets/controls",
          "model_name": "ButtonStyleModel",
          "model_module_version": "1.5.0",
          "state": {
            "_view_name": "StyleView",
            "_model_name": "ButtonStyleModel",
            "_view_module": "@jupyter-widgets/base",
            "_model_module_version": "1.5.0",
            "_view_count": null,
            "button_color": null,
            "font_weight": "",
            "_view_module_version": "1.2.0",
            "_model_module": "@jupyter-widgets/controls"
          }
        },
        "21b29d9b66db45a6b11c55736f6f9c9b": {
          "model_module": "@jupyter-widgets/base",
          "model_name": "LayoutModel",
          "model_module_version": "1.2.0",
          "state": {
            "_view_name": "LayoutView",
            "grid_template_rows": null,
            "right": null,
            "justify_content": null,
            "_view_module": "@jupyter-widgets/base",
            "overflow": null,
            "_model_module_version": "1.2.0",
            "_view_count": null,
            "flex_flow": null,
            "width": null,
            "min_width": null,
            "border": null,
            "align_items": null,
            "bottom": null,
            "_model_module": "@jupyter-widgets/base",
            "top": null,
            "grid_column": null,
            "overflow_y": null,
            "overflow_x": null,
            "grid_auto_flow": null,
            "grid_area": null,
            "grid_template_columns": null,
            "flex": null,
            "_model_name": "LayoutModel",
            "justify_items": null,
            "grid_row": null,
            "max_height": null,
            "align_content": null,
            "visibility": null,
            "align_self": null,
            "height": null,
            "min_height": null,
            "padding": null,
            "grid_auto_rows": null,
            "grid_gap": null,
            "max_width": null,
            "order": null,
            "_view_module_version": "1.2.0",
            "grid_template_areas": null,
            "object_position": null,
            "object_fit": null,
            "grid_auto_columns": null,
            "margin": null,
            "display": null,
            "left": null
          }
        },
        "9907b46ef54a4f0b8c5f0a2b801e73d6": {
          "model_module": "@jupyter-widgets/controls",
          "model_name": "ButtonStyleModel",
          "model_module_version": "1.5.0",
          "state": {
            "_view_name": "StyleView",
            "_model_name": "ButtonStyleModel",
            "_view_module": "@jupyter-widgets/base",
            "_model_module_version": "1.5.0",
            "_view_count": null,
            "button_color": null,
            "font_weight": "",
            "_view_module_version": "1.2.0",
            "_model_module": "@jupyter-widgets/controls"
          }
        },
        "35cc8f88298d44498b26ddf18317e5e7": {
          "model_module": "@jupyter-widgets/base",
          "model_name": "LayoutModel",
          "model_module_version": "1.2.0",
          "state": {
            "_view_name": "LayoutView",
            "grid_template_rows": null,
            "right": null,
            "justify_content": null,
            "_view_module": "@jupyter-widgets/base",
            "overflow": null,
            "_model_module_version": "1.2.0",
            "_view_count": null,
            "flex_flow": null,
            "width": null,
            "min_width": null,
            "border": null,
            "align_items": null,
            "bottom": null,
            "_model_module": "@jupyter-widgets/base",
            "top": null,
            "grid_column": null,
            "overflow_y": null,
            "overflow_x": null,
            "grid_auto_flow": null,
            "grid_area": null,
            "grid_template_columns": null,
            "flex": null,
            "_model_name": "LayoutModel",
            "justify_items": null,
            "grid_row": null,
            "max_height": null,
            "align_content": null,
            "visibility": null,
            "align_self": null,
            "height": null,
            "min_height": null,
            "padding": null,
            "grid_auto_rows": null,
            "grid_gap": null,
            "max_width": null,
            "order": null,
            "_view_module_version": "1.2.0",
            "grid_template_areas": null,
            "object_position": null,
            "object_fit": null,
            "grid_auto_columns": null,
            "margin": null,
            "display": null,
            "left": null
          }
        },
        "5b06adb55ca74fc184fca9a6060a4e67": {
          "model_module": "@jupyter-widgets/controls",
          "model_name": "DescriptionStyleModel",
          "model_module_version": "1.5.0",
          "state": {
            "_view_name": "StyleView",
            "_model_name": "DescriptionStyleModel",
            "description_width": "",
            "_view_module": "@jupyter-widgets/base",
            "_model_module_version": "1.5.0",
            "_view_count": null,
            "_view_module_version": "1.2.0",
            "_model_module": "@jupyter-widgets/controls"
          }
        },
        "21d309fe4c5c4e9c9ba496415454cc48": {
          "model_module": "@jupyter-widgets/base",
          "model_name": "LayoutModel",
          "model_module_version": "1.2.0",
          "state": {
            "_view_name": "LayoutView",
            "grid_template_rows": null,
            "right": null,
            "justify_content": null,
            "_view_module": "@jupyter-widgets/base",
            "overflow": null,
            "_model_module_version": "1.2.0",
            "_view_count": null,
            "flex_flow": null,
            "width": null,
            "min_width": null,
            "border": null,
            "align_items": null,
            "bottom": null,
            "_model_module": "@jupyter-widgets/base",
            "top": null,
            "grid_column": null,
            "overflow_y": null,
            "overflow_x": null,
            "grid_auto_flow": null,
            "grid_area": null,
            "grid_template_columns": null,
            "flex": null,
            "_model_name": "LayoutModel",
            "justify_items": null,
            "grid_row": null,
            "max_height": null,
            "align_content": null,
            "visibility": null,
            "align_self": null,
            "height": null,
            "min_height": null,
            "padding": null,
            "grid_auto_rows": null,
            "grid_gap": null,
            "max_width": null,
            "order": null,
            "_view_module_version": "1.2.0",
            "grid_template_areas": null,
            "object_position": null,
            "object_fit": null,
            "grid_auto_columns": null,
            "margin": null,
            "display": null,
            "left": null
          }
        },
        "0807fa8894834266a5f132204ad1ee8f": {
          "model_module": "@jupyter-widgets/base",
          "model_name": "LayoutModel",
          "model_module_version": "1.2.0",
          "state": {
            "_view_name": "LayoutView",
            "grid_template_rows": null,
            "right": null,
            "justify_content": null,
            "_view_module": "@jupyter-widgets/base",
            "overflow": null,
            "_model_module_version": "1.2.0",
            "_view_count": null,
            "flex_flow": null,
            "width": null,
            "min_width": null,
            "border": null,
            "align_items": null,
            "bottom": null,
            "_model_module": "@jupyter-widgets/base",
            "top": null,
            "grid_column": null,
            "overflow_y": null,
            "overflow_x": null,
            "grid_auto_flow": null,
            "grid_area": null,
            "grid_template_columns": null,
            "flex": null,
            "_model_name": "LayoutModel",
            "justify_items": null,
            "grid_row": null,
            "max_height": null,
            "align_content": null,
            "visibility": null,
            "align_self": null,
            "height": null,
            "min_height": null,
            "padding": null,
            "grid_auto_rows": null,
            "grid_gap": null,
            "max_width": null,
            "order": null,
            "_view_module_version": "1.2.0",
            "grid_template_areas": null,
            "object_position": null,
            "object_fit": null,
            "grid_auto_columns": null,
            "margin": null,
            "display": null,
            "left": null
          }
        }
      }
    }
  },
  "cells": [
    {
      "cell_type": "markdown",
      "metadata": {
        "id": "view-in-github",
        "colab_type": "text"
      },
      "source": [
        "<a href=\"https://colab.research.google.com/github/banggeul/fastailessons/blob/main/Fast_Ai_Production_Ch2_Practice.ipynb\" target=\"_parent\"><img src=\"https://colab.research.google.com/assets/colab-badge.svg\" alt=\"Open In Colab\"/></a>"
      ]
    },
    {
      "cell_type": "code",
      "metadata": {
        "id": "B2YH5WPsUPvB"
      },
      "source": [
        "import fastbook\n",
        "fastbook.setup_book()"
      ],
      "execution_count": null,
      "outputs": []
    },
    {
      "cell_type": "code",
      "metadata": {
        "id": "T3Oh0I4NUfpk"
      },
      "source": [
        "from fastbook import *\n",
        "from fastai.vision.widgets import *"
      ],
      "execution_count": null,
      "outputs": []
    },
    {
      "cell_type": "code",
      "metadata": {
        "id": "DaujQXe1Uk-F"
      },
      "source": [
        "path = Path()"
      ],
      "execution_count": null,
      "outputs": []
    },
    {
      "cell_type": "code",
      "metadata": {
        "id": "H8kuZ8llUmb0"
      },
      "source": [
        "learn_inf = load_learner(path/'export.pkl', cpu=True)\n",
        "btn_upload = widgets.FileUpload()\n",
        "out_pl = widgets.Output()\n",
        "lbl_pred = widgets.Label()"
      ],
      "execution_count": null,
      "outputs": []
    },
    {
      "cell_type": "code",
      "metadata": {
        "id": "WT3UPFwrU2wV"
      },
      "source": [
        "def on_click(change):\n",
        "  img = PILImage.create(btn_upload.data[-1])\n",
        "  out_pl.clear_output()\n",
        "  with out_pl: display(img.to_thumb(128,128))\n",
        "  pred, pred_idx, probs = learn_inf.predict(img)\n",
        "  lbl_pred.value = f'Prediction: {pred}; Probability: {probs[pred_idx]:.04f}'"
      ],
      "execution_count": null,
      "outputs": []
    },
    {
      "cell_type": "code",
      "metadata": {
        "colab": {
          "base_uri": "https://localhost:8080/",
          "height": 327,
          "referenced_widgets": [
            "33dad0ab00ff47c1a198c931df2afb14",
            "eaa8a7a4294445bbabf365305448a0df",
            "2a924e348b834f43b623adda2603b0b2",
            "fde8b121e7c04bc3aaeb908fc71a6524",
            "58746a5310034b2b8e8aaa5496e7ecea",
            "0998d99e68db4c32aad360ac88db4be3",
            "801b8fa894624dcf8aafa11902af6f86",
            "c2b9f38420b24e6584e48d3242819457",
            "24b17da6f3744a96b7d8a5797d80e879",
            "5faa16a002054f1a96a9de476bc6d838",
            "21b29d9b66db45a6b11c55736f6f9c9b",
            "9907b46ef54a4f0b8c5f0a2b801e73d6",
            "35cc8f88298d44498b26ddf18317e5e7",
            "5b06adb55ca74fc184fca9a6060a4e67",
            "21d309fe4c5c4e9c9ba496415454cc48",
            "0807fa8894834266a5f132204ad1ee8f"
          ]
        },
        "id": "piz-8KRzVXXP",
        "outputId": "d04097e9-1d2c-4a4f-b818-a1fe031babd1"
      },
      "source": [
        "btn_upload.observe(on_click, names=['data'])\n",
        "btn_run = widgets.Button(description='Classify')\n",
        "btn_run.on_click(on_click)\n",
        "\n",
        "VBox([widgets.Label('Select Your Bear!'), btn_upload, btn_run, out_pl, lbl_pred])"
      ],
      "execution_count": null,
      "outputs": [
        {
          "output_type": "display_data",
          "data": {
            "application/vnd.jupyter.widget-view+json": {
              "model_id": "33dad0ab00ff47c1a198c931df2afb14",
              "version_minor": 0,
              "version_major": 2
            },
            "text/plain": [
              "VBox(children=(Label(value='Select Your Bear!'), FileUpload(value={}, description='Upload'), Button(descriptio…"
            ]
          },
          "metadata": {
            "tags": []
          }
        },
        {
          "output_type": "display_data",
          "data": {
            "text/html": [
              ""
            ],
            "text/plain": [
              "<IPython.core.display.HTML object>"
            ]
          },
          "metadata": {
            "tags": []
          }
        },
        {
          "output_type": "stream",
          "text": [
            "/usr/local/lib/python3.7/dist-packages/torch/nn/functional.py:718: UserWarning: Named tensors and all their associated APIs are an experimental feature and subject to change. Please do not use them for anything important until they are released as stable. (Triggered internally at  /pytorch/c10/core/TensorImpl.h:1156.)\n",
            "  return torch.max_pool2d(input, kernel_size, stride, padding, dilation, ceil_mode)\n"
          ],
          "name": "stderr"
        },
        {
          "output_type": "display_data",
          "data": {
            "text/html": [
              ""
            ],
            "text/plain": [
              "<IPython.core.display.HTML object>"
            ]
          },
          "metadata": {
            "tags": []
          }
        }
      ]
    }
  ]
}